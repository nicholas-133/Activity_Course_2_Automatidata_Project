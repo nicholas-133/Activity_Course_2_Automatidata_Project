{
 "cells": [
  {
   "cell_type": "markdown",
   "metadata": {
    "id": "DtNBZFHO3M7n"
   },
   "source": [
    "# **Automatidata project**\n",
    "**Course 2 - Get Started with Python**"
   ]
  },
  {
   "cell_type": "markdown",
   "metadata": {
    "id": "zJCatj3xzrQZ"
   },
   "source": [
    "Welcome to the Automatidata Project!\n",
    "\n",
    "You have just started as a data professional in a fictional data analytics firm, Automatidata. Their client, the New York City Taxi and Limousine Commission (New York City TLC), has hired the Automatidata team for its reputation in helping their clients develop data-based solutions.\n",
    "\n",
    "The team is still in the early stages of the project. Previously, you were asked to complete a project proposal by your supervisor, DeShawn Washington. You have received notice that your project proposal has been approved and that New York City TLC has given the Automatidata team access to their data. To get clear insights, New York TLC's data must be analyzed, key variables identified, and the dataset ensured it is ready for analysis.\n",
    "\n",
    "A notebook was structured and prepared to help you in this project. Please complete the questions inside and prepare a summary for the data team."
   ]
  },
  {
   "cell_type": "markdown",
   "metadata": {
    "id": "HjFGokxv2pc5"
   },
   "source": [
    "# **Identify data types and relevant variables using Python**\n"
   ]
  },
  {
   "cell_type": "markdown",
   "metadata": {
    "id": "i54DhoTln2Sb"
   },
   "source": [
    "### **Exercise Instructions:**\n"
   ]
  },
  {
   "cell_type": "markdown",
   "metadata": {
    "id": "L6KgK-M8o3we"
   },
   "source": [
    "### **Task 2a. Build dataframe**\n",
    "\n",
    "\n",
    "\n",
    "\n",
    "\n",
    "\n",
    "\n",
    "\n",
    "\n",
    "\n",
    "\n",
    "\n",
    "\n",
    "\n"
   ]
  },
  {
   "cell_type": "markdown",
   "metadata": {
    "id": "D4WK_AxP_S__"
   },
   "source": [
    "Create a pandas dataframe for data learning, exploratory data analysis (EDA), and statistical activities.\n",
    "\n",
    "**Code the following,**\n",
    "\n",
    "*   import pandas as pd               #library exercise for buidling dataframes\n",
    "\n",
    "*   import numpy as np                #numpy is imported with pandas\n",
    "\n",
    "*   df = pd.read_csv('2017_Yellow_Taxi_Trip_Data.csv')\n",
    "\n",
    "**Note:** pair the data object name \"df\" with pandas functions to manipulate data, such as df.groupby().\n",
    "\n",
    "**Note:** As shown in this cell, the dataset has been automatically loaded in for you. You do not need to download the .csv file, or provide more code, in order to access the dataset and proceed with this lab. Please continue with this activity by completing the following instructions."
   ]
  },
  {
   "cell_type": "code",
   "execution_count": 9,
   "metadata": {
    "id": "OZSXM4q5zrQh"
   },
   "outputs": [
    {
     "name": "stdout",
     "output_type": "stream",
     "text": [
      "done\n"
     ]
    }
   ],
   "source": [
    "#==> ENTER YOUR CODE HERE\n",
    "import pandas as pd\n",
    "import numpy as np\n",
    "# RUN THIS CELL TO IMPORT YOUR DATA.\n",
    "df = pd.read_csv('2017_Yellow_Taxi_Trip_Data.csv')\n",
    "print(\"done\")\n"
   ]
  },
  {
   "cell_type": "markdown",
   "metadata": {
    "id": "gYx1emvno7U_"
   },
   "source": [
    "### **Task 2b. Understand the data - Inspect the data**\n",
    "\n",
    "View and inspect summary information about the dataframe by coding the following:\n",
    "\n",
    "1. df.head(10)\n",
    "2. df.info()\n",
    "3. df.describe()\n",
    "\n",
    "Consider the following two questions:\n",
    "\n",
    "**Question 1:** When reviewing the df.info() output, what do you notice about the different variables? Are there any null values? Are all of the variables numeric? Does anything else stand out?\n",
    "\n",
    "**Question 2:** When reviewing the df.describe() output, what do you notice about the distributions of each variable? Are there any questionable values?"
   ]
  },
  {
   "cell_type": "markdown",
   "metadata": {},
   "source": [
    "#==> ENTER YOUR RESPONSE TO QUESTIONS 1 & 2 HERE"
   ]
  },
  {
   "cell_type": "markdown",
   "metadata": {},
   "source": [
    "Question 1: There are no null values when inspecting the data with df.info(). However that does not mean that data is cleaned, 0 values could be a indication of unclean data.\n",
    "\n",
    "Question 2: Using the describe() output, I notice summary statistics on columns that are id's which is not useful as it is not a aggregate column. I did notice negative amount for the minimum [fare_amount], which is odd. This could resembled a refund, adjustment, credit, or error with the data. Going to explore the negative amounts here.\n"
   ]
  },
  {
   "cell_type": "code",
   "execution_count": 10,
   "metadata": {
    "id": "t7Nck2hh4R6J"
   },
   "outputs": [
    {
     "name": "stdout",
     "output_type": "stream",
     "text": [
      "   Unnamed: 0  VendorID    tpep_pickup_datetime   tpep_dropoff_datetime  \\\n",
      "0    24870114         2   03/25/2017 8:55:43 AM   03/25/2017 9:09:47 AM   \n",
      "1    35634249         1   04/11/2017 2:53:28 PM   04/11/2017 3:19:58 PM   \n",
      "2   106203690         1   12/15/2017 7:26:56 AM   12/15/2017 7:34:08 AM   \n",
      "3    38942136         2   05/07/2017 1:17:59 PM   05/07/2017 1:48:14 PM   \n",
      "4    30841670         2  04/15/2017 11:32:20 PM  04/15/2017 11:49:03 PM   \n",
      "5    23345809         2   03/25/2017 8:34:11 PM   03/25/2017 8:42:11 PM   \n",
      "6    37660487         2   05/03/2017 7:04:09 PM   05/03/2017 8:03:47 PM   \n",
      "7    69059411         2   08/15/2017 5:41:06 PM   08/15/2017 6:03:05 PM   \n",
      "8     8433159         2   02/04/2017 4:17:07 PM   02/04/2017 4:29:14 PM   \n",
      "9    95294817         1   11/10/2017 3:20:29 PM   11/10/2017 3:40:55 PM   \n",
      "\n",
      "   passenger_count  trip_distance  RatecodeID store_and_fwd_flag  \\\n",
      "0                6           3.34           1                  N   \n",
      "1                1           1.80           1                  N   \n",
      "2                1           1.00           1                  N   \n",
      "3                1           3.70           1                  N   \n",
      "4                1           4.37           1                  N   \n",
      "5                6           2.30           1                  N   \n",
      "6                1          12.83           1                  N   \n",
      "7                1           2.98           1                  N   \n",
      "8                1           1.20           1                  N   \n",
      "9                1           1.60           1                  N   \n",
      "\n",
      "   PULocationID  DOLocationID  payment_type  fare_amount  extra  mta_tax  \\\n",
      "0           100           231             1         13.0    0.0      0.5   \n",
      "1           186            43             1         16.0    0.0      0.5   \n",
      "2           262           236             1          6.5    0.0      0.5   \n",
      "3           188            97             1         20.5    0.0      0.5   \n",
      "4             4           112             2         16.5    0.5      0.5   \n",
      "5           161           236             1          9.0    0.5      0.5   \n",
      "6            79           241             1         47.5    1.0      0.5   \n",
      "7           237           114             1         16.0    1.0      0.5   \n",
      "8           234           249             2          9.0    0.0      0.5   \n",
      "9           239           237             1         13.0    0.0      0.5   \n",
      "\n",
      "   tip_amount  tolls_amount  improvement_surcharge  total_amount  \n",
      "0        2.76           0.0                    0.3         16.56  \n",
      "1        4.00           0.0                    0.3         20.80  \n",
      "2        1.45           0.0                    0.3          8.75  \n",
      "3        6.39           0.0                    0.3         27.69  \n",
      "4        0.00           0.0                    0.3         17.80  \n",
      "5        2.06           0.0                    0.3         12.36  \n",
      "6        9.86           0.0                    0.3         59.16  \n",
      "7        1.78           0.0                    0.3         19.58  \n",
      "8        0.00           0.0                    0.3          9.80  \n",
      "9        2.75           0.0                    0.3         16.55  \n"
     ]
    }
   ],
   "source": [
    "print(df.head(10))"
   ]
  },
  {
   "cell_type": "code",
   "execution_count": 11,
   "metadata": {
    "id": "3NctoTSAvGGD"
   },
   "outputs": [
    {
     "name": "stdout",
     "output_type": "stream",
     "text": [
      "<class 'pandas.core.frame.DataFrame'>\n",
      "RangeIndex: 22699 entries, 0 to 22698\n",
      "Data columns (total 18 columns):\n",
      " #   Column                 Non-Null Count  Dtype  \n",
      "---  ------                 --------------  -----  \n",
      " 0   Unnamed: 0             22699 non-null  int64  \n",
      " 1   VendorID               22699 non-null  int64  \n",
      " 2   tpep_pickup_datetime   22699 non-null  object \n",
      " 3   tpep_dropoff_datetime  22699 non-null  object \n",
      " 4   passenger_count        22699 non-null  int64  \n",
      " 5   trip_distance          22699 non-null  float64\n",
      " 6   RatecodeID             22699 non-null  int64  \n",
      " 7   store_and_fwd_flag     22699 non-null  object \n",
      " 8   PULocationID           22699 non-null  int64  \n",
      " 9   DOLocationID           22699 non-null  int64  \n",
      " 10  payment_type           22699 non-null  int64  \n",
      " 11  fare_amount            22699 non-null  float64\n",
      " 12  extra                  22699 non-null  float64\n",
      " 13  mta_tax                22699 non-null  float64\n",
      " 14  tip_amount             22699 non-null  float64\n",
      " 15  tolls_amount           22699 non-null  float64\n",
      " 16  improvement_surcharge  22699 non-null  float64\n",
      " 17  total_amount           22699 non-null  float64\n",
      "dtypes: float64(8), int64(7), object(3)\n",
      "memory usage: 3.1+ MB\n",
      "None\n"
     ]
    }
   ],
   "source": [
    "print(df.info())"
   ]
  },
  {
   "cell_type": "code",
   "execution_count": 12,
   "metadata": {},
   "outputs": [
    {
     "name": "stdout",
     "output_type": "stream",
     "text": [
      "         Unnamed: 0      VendorID  passenger_count  trip_distance  \\\n",
      "count  2.269900e+04  22699.000000     22699.000000   22699.000000   \n",
      "mean   5.675849e+07      1.556236         1.642319       2.913313   \n",
      "std    3.274493e+07      0.496838         1.285231       3.653171   \n",
      "min    1.212700e+04      1.000000         0.000000       0.000000   \n",
      "25%    2.852056e+07      1.000000         1.000000       0.990000   \n",
      "50%    5.673150e+07      2.000000         1.000000       1.610000   \n",
      "75%    8.537452e+07      2.000000         2.000000       3.060000   \n",
      "max    1.134863e+08      2.000000         6.000000      33.960000   \n",
      "\n",
      "         RatecodeID  PULocationID  DOLocationID  payment_type   fare_amount  \\\n",
      "count  22699.000000  22699.000000  22699.000000  22699.000000  22699.000000   \n",
      "mean       1.043394    162.412353    161.527997      1.336887     13.026629   \n",
      "std        0.708391     66.633373     70.139691      0.496211     13.243791   \n",
      "min        1.000000      1.000000      1.000000      1.000000   -120.000000   \n",
      "25%        1.000000    114.000000    112.000000      1.000000      6.500000   \n",
      "50%        1.000000    162.000000    162.000000      1.000000      9.500000   \n",
      "75%        1.000000    233.000000    233.000000      2.000000     14.500000   \n",
      "max       99.000000    265.000000    265.000000      4.000000    999.990000   \n",
      "\n",
      "              extra       mta_tax    tip_amount  tolls_amount  \\\n",
      "count  22699.000000  22699.000000  22699.000000  22699.000000   \n",
      "mean       0.333275      0.497445      1.835781      0.312542   \n",
      "std        0.463097      0.039465      2.800626      1.399212   \n",
      "min       -1.000000     -0.500000      0.000000      0.000000   \n",
      "25%        0.000000      0.500000      0.000000      0.000000   \n",
      "50%        0.000000      0.500000      1.350000      0.000000   \n",
      "75%        0.500000      0.500000      2.450000      0.000000   \n",
      "max        4.500000      0.500000    200.000000     19.100000   \n",
      "\n",
      "       improvement_surcharge  total_amount  \n",
      "count           22699.000000  22699.000000  \n",
      "mean                0.299551     16.310502  \n",
      "std                 0.015673     16.097295  \n",
      "min                -0.300000   -120.300000  \n",
      "25%                 0.300000      8.750000  \n",
      "50%                 0.300000     11.800000  \n",
      "75%                 0.300000     17.800000  \n",
      "max                 0.300000   1200.290000  \n"
     ]
    }
   ],
   "source": [
    "print(df.describe())"
   ]
  },
  {
   "cell_type": "markdown",
   "metadata": {
    "id": "BMNnIoc51_1N"
   },
   "source": [
    "### **Task 2c. Understand the data - Investigate the variables**\n",
    "\n",
    "Sort and interpret the data table for two variables:`trip_distance` and `total_amount`.\n",
    "\n",
    "**Answer the following three questions:**\n",
    "\n",
    "**Question 1:** Sort your first variable (`trip_distance`) from maximum to minimum value, do the values seem normal?\n",
    "\n",
    "**Question 2:** Sort your by your second variable (`total_amount`), are any values unusual?\n",
    "\n",
    "**Question 3:** Are the resulting rows similar for both sorts? Why or why not?"
   ]
  },
  {
   "cell_type": "markdown",
   "metadata": {},
   "source": [
    "*#==> ENTER YOUR RESPONSES TO QUESTION 1-3 HERE"
   ]
  },
  {
   "cell_type": "markdown",
   "metadata": {},
   "source": [
    "Question 1: There are total_amounts for multiple trip_distance of 0.00 . \n",
    "\n",
    "Question 2: There are large and significant values for trip_distance of 0.00  -- This makes me believe that there are services that do not charge by distance but by time or even a fixed fee (this could be limo services...). \n",
    "\n",
    "Question 3: In my opinion they are different becuase there are too many 0.00 distances that have significant total_amounts. You could cherry pick ones to get a general trend of the more trip_distance the more total_amount, however there is something significant going on here that should be considered.\n"
   ]
  },
  {
   "cell_type": "code",
   "execution_count": 13,
   "metadata": {},
   "outputs": [
    {
     "name": "stdout",
     "output_type": "stream",
     "text": [
      "       trip_distance  total_amount\n",
      "9280           33.96        150.30\n",
      "13861          33.92        258.21\n",
      "6064           32.72        179.06\n",
      "10291          31.95        131.80\n",
      "29             30.83        111.38\n",
      "...              ...           ...\n",
      "2440            0.00          6.80\n",
      "15916           0.00         10.30\n",
      "1350            0.00          3.96\n",
      "246             0.00          3.80\n",
      "17788           0.00          3.80\n",
      "\n",
      "[22699 rows x 2 columns]\n"
     ]
    }
   ],
   "source": [
    "df_sorted = df.sort_values( by=['trip_distance'], ascending = False )\n",
    "\n",
    "print(df_sorted[['trip_distance','total_amount']])"
   ]
  },
  {
   "cell_type": "code",
   "execution_count": 14,
   "metadata": {},
   "outputs": [
    {
     "name": "stdout",
     "output_type": "stream",
     "text": [
      "       trip_distance  total_amount\n",
      "8476            2.60       1200.29\n",
      "20312           0.00        450.30\n",
      "13861          33.92        258.21\n",
      "12511           0.00        233.74\n",
      "15474           0.00        211.80\n",
      "6064           32.72        179.06\n",
      "16379          25.50        157.06\n",
      "3582            7.30        152.30\n",
      "11269           0.00        151.82\n",
      "9280           33.96        150.30\n",
      "1928           12.50        137.80\n",
      "10291          31.95        131.80\n",
      "6708            0.32        126.00\n",
      "11608          23.00        123.30\n",
      "908            26.12        121.56\n",
      "7281            0.00        120.96\n",
      "18130          30.50        119.31\n",
      "13621          19.80        115.94\n",
      "13359           0.00        111.95\n",
      "29             30.83        111.38\n"
     ]
    }
   ],
   "source": [
    "df_sorted = df.sort_values( by=['total_amount'], ascending = False )\n",
    "\n",
    "print(df_sorted[['trip_distance','total_amount']].head(20))\n",
    "\n",
    "\n",
    "# Sort the data by total amount and print the top 20 values"
   ]
  },
  {
   "cell_type": "code",
   "execution_count": 15,
   "metadata": {},
   "outputs": [
    {
     "name": "stdout",
     "output_type": "stream",
     "text": [
      "       trip_distance  total_amount\n",
      "12944           0.17       -120.30\n",
      "20698           0.70         -5.80\n",
      "17602           0.46         -5.80\n",
      "11204           0.64         -5.30\n",
      "14714           0.40         -5.30\n",
      "8204            0.41         -4.80\n",
      "20317           0.24         -4.80\n",
      "10281           0.00         -4.30\n",
      "5448            0.25         -4.30\n",
      "4423            0.06         -4.30\n",
      "18565           0.10         -3.80\n",
      "314             0.12         -3.80\n",
      "5758            0.02         -3.80\n",
      "1646            0.04         -3.30\n",
      "10506           0.00          0.00\n",
      "4402            7.06          0.00\n",
      "5722            0.00          0.00\n",
      "22566           0.00          0.00\n",
      "19067           0.10          0.30\n",
      "14283           0.00          0.31\n"
     ]
    }
   ],
   "source": [
    "#==> ENTER YOUR CODE HERE\n",
    "df_sorted = df.sort_values( by=['total_amount'], ascending = True )\n",
    "\n",
    "print(df_sorted[['trip_distance','total_amount']].head(20))\n",
    "# Sort the data by total amount and print the bottom 20 values"
   ]
  },
  {
   "cell_type": "code",
   "execution_count": 76,
   "metadata": {
    "id": "bAQeHW-d2S1-"
   },
   "outputs": [
    {
     "name": "stdout",
     "output_type": "stream",
     "text": [
      "1    15265\n",
      "2     7267\n",
      "3      121\n",
      "4       46\n",
      "Name: payment_type, dtype: int64\n"
     ]
    }
   ],
   "source": [
    "#==> ENTER YOUR CODE HERE\n",
    "df_sorted = df.sort_values( by=['total_amount'], ascending = False )\n",
    "\n",
    "print(df_sorted.payment_type.value_counts())\n",
    "# How many of each payment type are represented in the data?\n",
    "\n",
    "#1    15265\n",
    "#2     7267\n",
    "#3      121\n",
    "#4       46\n"
   ]
  },
  {
   "cell_type": "code",
   "execution_count": 94,
   "metadata": {
    "id": "W77hp8q3w-zi"
   },
   "outputs": [
    {
     "name": "stdout",
     "output_type": "stream",
     "text": [
      "2.7298001965279934\n",
      "0.0\n"
     ]
    }
   ],
   "source": [
    "#==> ENTER YOUR CODE HERE\n",
    "df_credit = df[df['payment_type'] == 1]\n",
    "\n",
    "#print(df_credit[['VendorID', 'fare_amount']].sort_values(by='fare_amount', ascending = True))\n",
    "\n",
    "print(df_credit['tip_amount'].mean())\n",
    "\n",
    "df_cash = df[df['payment_type'] == 2]\n",
    "print(df_cash['tip_amount'].mean())\n",
    "# What is the average tip for trips paid for with credit card?\n",
    "# 2.7298001965279934\n",
    "# What is the average tip for trips paid for with cash?\n",
    "# 1.8346095358783399"
   ]
  },
  {
   "cell_type": "code",
   "execution_count": 77,
   "metadata": {},
   "outputs": [
    {
     "name": "stdout",
     "output_type": "stream",
     "text": [
      "VendorID\n",
      "2           12626\n",
      "1           10073\n",
      "dtype: int64\n"
     ]
    }
   ],
   "source": [
    "#==> ENTER YOUR CODE HERE\n",
    "\n",
    "print(df.value_counts(['VendorID']))\n",
    "# How many times is each vendor ID represented in the data?\n",
    "\n",
    "#VendorID\n",
    "#2           12626\n",
    "#1           10073\n"
   ]
  },
  {
   "cell_type": "code",
   "execution_count": 98,
   "metadata": {},
   "outputs": [
    {
     "name": "stdout",
     "output_type": "stream",
     "text": [
      "VendorID\n",
      "1    16.298119\n",
      "2    16.320382\n",
      "Name: total_amount, dtype: float64\n"
     ]
    }
   ],
   "source": [
    "#==> ENTER YOUR CODE HERE\n",
    "df_vendor = df.groupby(['VendorID']).mean(numeric_only=True)\n",
    "\n",
    "print( df_vendor['total_amount'] ) \n",
    "# What is the mean total amount for each vendor?"
   ]
  },
  {
   "cell_type": "code",
   "execution_count": 95,
   "metadata": {},
   "outputs": [
    {
     "name": "stdout",
     "output_type": "stream",
     "text": [
      "<class 'pandas.core.frame.DataFrame'>\n",
      "Int64Index: 15265 entries, 0 to 22698\n",
      "Data columns (total 18 columns):\n",
      " #   Column                 Non-Null Count  Dtype  \n",
      "---  ------                 --------------  -----  \n",
      " 0   Unnamed: 0             15265 non-null  int64  \n",
      " 1   VendorID               15265 non-null  int64  \n",
      " 2   tpep_pickup_datetime   15265 non-null  object \n",
      " 3   tpep_dropoff_datetime  15265 non-null  object \n",
      " 4   passenger_count        15265 non-null  int64  \n",
      " 5   trip_distance          15265 non-null  float64\n",
      " 6   RatecodeID             15265 non-null  int64  \n",
      " 7   store_and_fwd_flag     15265 non-null  object \n",
      " 8   PULocationID           15265 non-null  int64  \n",
      " 9   DOLocationID           15265 non-null  int64  \n",
      " 10  payment_type           15265 non-null  int64  \n",
      " 11  fare_amount            15265 non-null  float64\n",
      " 12  extra                  15265 non-null  float64\n",
      " 13  mta_tax                15265 non-null  float64\n",
      " 14  tip_amount             15265 non-null  float64\n",
      " 15  tolls_amount           15265 non-null  float64\n",
      " 16  improvement_surcharge  15265 non-null  float64\n",
      " 17  total_amount           15265 non-null  float64\n",
      "dtypes: float64(8), int64(7), object(3)\n",
      "memory usage: 2.2+ MB\n",
      "None\n",
      "<class 'pandas.core.frame.DataFrame'>\n",
      "RangeIndex: 22699 entries, 0 to 22698\n",
      "Data columns (total 18 columns):\n",
      " #   Column                 Non-Null Count  Dtype  \n",
      "---  ------                 --------------  -----  \n",
      " 0   Unnamed: 0             22699 non-null  int64  \n",
      " 1   VendorID               22699 non-null  int64  \n",
      " 2   tpep_pickup_datetime   22699 non-null  object \n",
      " 3   tpep_dropoff_datetime  22699 non-null  object \n",
      " 4   passenger_count        22699 non-null  int64  \n",
      " 5   trip_distance          22699 non-null  float64\n",
      " 6   RatecodeID             22699 non-null  int64  \n",
      " 7   store_and_fwd_flag     22699 non-null  object \n",
      " 8   PULocationID           22699 non-null  int64  \n",
      " 9   DOLocationID           22699 non-null  int64  \n",
      " 10  payment_type           22699 non-null  int64  \n",
      " 11  fare_amount            22699 non-null  float64\n",
      " 12  extra                  22699 non-null  float64\n",
      " 13  mta_tax                22699 non-null  float64\n",
      " 14  tip_amount             22699 non-null  float64\n",
      " 15  tolls_amount           22699 non-null  float64\n",
      " 16  improvement_surcharge  22699 non-null  float64\n",
      " 17  total_amount           22699 non-null  float64\n",
      "dtypes: float64(8), int64(7), object(3)\n",
      "memory usage: 3.1+ MB\n",
      "None\n",
      "<class 'pandas.core.frame.DataFrame'>\n",
      "Int64Index: 22666 entries, 0 to 22698\n",
      "Data columns (total 18 columns):\n",
      " #   Column                 Non-Null Count  Dtype  \n",
      "---  ------                 --------------  -----  \n",
      " 0   Unnamed: 0             22666 non-null  int64  \n",
      " 1   VendorID               22666 non-null  int64  \n",
      " 2   tpep_pickup_datetime   22666 non-null  object \n",
      " 3   tpep_dropoff_datetime  22666 non-null  object \n",
      " 4   passenger_count        22666 non-null  int64  \n",
      " 5   trip_distance          22666 non-null  float64\n",
      " 6   RatecodeID             22666 non-null  int64  \n",
      " 7   store_and_fwd_flag     22666 non-null  object \n",
      " 8   PULocationID           22666 non-null  int64  \n",
      " 9   DOLocationID           22666 non-null  int64  \n",
      " 10  payment_type           22666 non-null  int64  \n",
      " 11  fare_amount            22666 non-null  float64\n",
      " 12  extra                  22666 non-null  float64\n",
      " 13  mta_tax                22666 non-null  float64\n",
      " 14  tip_amount             22666 non-null  float64\n",
      " 15  tolls_amount           22666 non-null  float64\n",
      " 16  improvement_surcharge  22666 non-null  float64\n",
      " 17  total_amount           22666 non-null  float64\n",
      "dtypes: float64(8), int64(7), object(3)\n",
      "memory usage: 3.3+ MB\n",
      "None\n"
     ]
    }
   ],
   "source": [
    "#==> ENTER YOUR CODE HERE\n",
    "df_credit_card = df[df['payment_type'] == 1]\n",
    "# Filter the data for credit card payments only\n",
    "print(df_credit_card.info())\n",
    "\n",
    "print(df.info())\n",
    "\n",
    "# Filter the data for passenger count only\n",
    "#there are a few rides that did not have passenger_count difference in the non-null count .\n",
    "\n",
    "df_passenger_count = df[df['passenger_count'] > 0]\n",
    "\n",
    "print(df_passenger_count.info())"
   ]
  },
  {
   "cell_type": "code",
   "execution_count": 96,
   "metadata": {},
   "outputs": [
    {
     "name": "stdout",
     "output_type": "stream",
     "text": [
      "                 tip_amount\n",
      "passenger_count            \n",
      "0                  2.610370\n",
      "1                  2.714681\n",
      "2                  2.829949\n",
      "3                  2.726800\n",
      "4                  2.607753\n",
      "5                  2.762645\n",
      "6                  2.643326\n"
     ]
    }
   ],
   "source": [
    "#==> ENTER YOUR CODE HERE\n",
    "\n",
    "# Calculate the average tip amount for each passenger count (credit card payments only)\n",
    "df_avg_tip_credit = df_credit_card.groupby(['passenger_count']).mean(numeric_only = True)[['tip_amount']]\n",
    "\n",
    "print(df_avg_tip_credit)"
   ]
  },
  {
   "cell_type": "markdown",
   "metadata": {
    "id": "u3HxcMZgz6iW"
   },
   "source": [
    "### **Given your efforts, what can you summarize for DeShawn and the data team?**\n",
    "\n",
    "*Note for Learners: Your answer should address Luana's request for a summary that covers the following points:* \n",
    "\n",
    "* A summary of the data types of each variable\n",
    "\n",
    "* The number of null and non-null values\n",
    "\n",
    "* Preliminary insights derived from the data, including:\n",
    "    * Unusual or questionable values\n",
    "    * How many of each payment type are represented in the data\n",
    "    * Mean tip amount for each payment type\n",
    "    * How many rides each vendor provided\n",
    "    * Mean total amount for each vendor\n",
    "    * Mean tip amount for each passenger count (only of those who paid by credit card)\n",
    "\n"
   ]
  },
  {
   "cell_type": "markdown",
   "metadata": {},
   "source": [
    "==> ENTER YOUR RESPONSE HERE "
   ]
  }
 ],
 "metadata": {
  "colab": {
   "collapsed_sections": [
    "u3HxcMZgz6iW"
   ],
   "provenance": []
  },
  "kernelspec": {
   "display_name": "Python 3",
   "language": "python",
   "name": "python3"
  },
  "language_info": {
   "codemirror_mode": {
    "name": "ipython",
    "version": 3
   },
   "file_extension": ".py",
   "mimetype": "text/x-python",
   "name": "python",
   "nbconvert_exporter": "python",
   "pygments_lexer": "ipython3",
   "version": "3.7.6"
  }
 },
 "nbformat": 4,
 "nbformat_minor": 1
}
